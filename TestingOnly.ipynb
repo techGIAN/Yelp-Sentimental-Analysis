{
 "cells": [
  {
   "cell_type": "code",
   "execution_count": 1,
   "metadata": {},
   "outputs": [
    {
     "name": "stdout",
     "output_type": "stream",
     "text": [
      "Datasets merged!\n"
     ]
    }
   ],
   "source": [
    "# EECS 4412 - Data Mining\n",
    "# Stage 3 Preprocessing\n",
    "# Author: Gian Carlo Alix\n",
    "\n",
    "# import necessary libraries\n",
    "import pandas as pd\n",
    "\n",
    "train_stemmed = pd.read_csv(\"train_stemmed.csv\")\n",
    "test_stemmed = pd.read_csv(\"test_stemmed.csv\")\n",
    "merged_dataset = train_stemmed.append(test_stemmed)\n",
    "merged_dataset.to_csv(\"merged_set.csv\",index=False)\n",
    "print(\"Datasets merged!\")"
   ]
  },
  {
   "cell_type": "code",
   "execution_count": 17,
   "metadata": {},
   "outputs": [
    {
     "data": {
      "text/html": [
       "<div>\n",
       "<style scoped>\n",
       "    .dataframe tbody tr th:only-of-type {\n",
       "        vertical-align: middle;\n",
       "    }\n",
       "\n",
       "    .dataframe tbody tr th {\n",
       "        vertical-align: top;\n",
       "    }\n",
       "\n",
       "    .dataframe thead th {\n",
       "        text-align: right;\n",
       "    }\n",
       "</style>\n",
       "<table border=\"1\" class=\"dataframe\">\n",
       "  <thead>\n",
       "    <tr style=\"text-align: right;\">\n",
       "      <th></th>\n",
       "      <th>stopwords</th>\n",
       "    </tr>\n",
       "  </thead>\n",
       "  <tbody>\n",
       "    <tr>\n",
       "      <td>0</td>\n",
       "      <td>a</td>\n",
       "    </tr>\n",
       "    <tr>\n",
       "      <td>1</td>\n",
       "      <td>about</td>\n",
       "    </tr>\n",
       "    <tr>\n",
       "      <td>2</td>\n",
       "      <td>above</td>\n",
       "    </tr>\n",
       "    <tr>\n",
       "      <td>3</td>\n",
       "      <td>across</td>\n",
       "    </tr>\n",
       "    <tr>\n",
       "      <td>4</td>\n",
       "      <td>after</td>\n",
       "    </tr>\n",
       "  </tbody>\n",
       "</table>\n",
       "</div>"
      ],
      "text/plain": [
       "  stopwords\n",
       "0         a\n",
       "1     about\n",
       "2     above\n",
       "3    across\n",
       "4     after"
      ]
     },
     "execution_count": 17,
     "metadata": {},
     "output_type": "execute_result"
    }
   ],
   "source": [
    "sw = pd.read_csv(\"stopwords.csv\")\n",
    "sw.head()"
   ]
  },
  {
   "cell_type": "code",
   "execution_count": 20,
   "metadata": {},
   "outputs": [
    {
     "data": {
      "text/plain": [
       "True"
      ]
     },
     "execution_count": 20,
     "metadata": {},
     "output_type": "execute_result"
    }
   ],
   "source": [
    "\"we\" in list(sw['stopwords'])"
   ]
  },
  {
   "cell_type": "code",
   "execution_count": 18,
   "metadata": {},
   "outputs": [],
   "source": [
    "list_of_more_stopwords = ['0', '1', '2', '3', '4', '5', '6', '7', '8', '9', '']\n",
    "sw_additional = pd.DataFrame({'stopwords':list_of_more_stopwords})\n",
    "sw = sw.append(sw_additional)"
   ]
  },
  {
   "cell_type": "code",
   "execution_count": 19,
   "metadata": {},
   "outputs": [
    {
     "data": {
      "text/html": [
       "<div>\n",
       "<style scoped>\n",
       "    .dataframe tbody tr th:only-of-type {\n",
       "        vertical-align: middle;\n",
       "    }\n",
       "\n",
       "    .dataframe tbody tr th {\n",
       "        vertical-align: top;\n",
       "    }\n",
       "\n",
       "    .dataframe thead th {\n",
       "        text-align: right;\n",
       "    }\n",
       "</style>\n",
       "<table border=\"1\" class=\"dataframe\">\n",
       "  <thead>\n",
       "    <tr style=\"text-align: right;\">\n",
       "      <th></th>\n",
       "      <th>stopwords</th>\n",
       "    </tr>\n",
       "  </thead>\n",
       "  <tbody>\n",
       "    <tr>\n",
       "      <td>6</td>\n",
       "      <td>6</td>\n",
       "    </tr>\n",
       "    <tr>\n",
       "      <td>7</td>\n",
       "      <td>7</td>\n",
       "    </tr>\n",
       "    <tr>\n",
       "      <td>8</td>\n",
       "      <td>8</td>\n",
       "    </tr>\n",
       "    <tr>\n",
       "      <td>9</td>\n",
       "      <td>9</td>\n",
       "    </tr>\n",
       "    <tr>\n",
       "      <td>10</td>\n",
       "      <td></td>\n",
       "    </tr>\n",
       "  </tbody>\n",
       "</table>\n",
       "</div>"
      ],
      "text/plain": [
       "   stopwords\n",
       "6          6\n",
       "7          7\n",
       "8          8\n",
       "9          9\n",
       "10          "
      ]
     },
     "execution_count": 19,
     "metadata": {},
     "output_type": "execute_result"
    }
   ],
   "source": [
    "sw.tail()"
   ]
  },
  {
   "cell_type": "code",
   "execution_count": 24,
   "metadata": {},
   "outputs": [],
   "source": [
    "df1 = pd.read_csv(\"data/train3.csv\")"
   ]
  },
  {
   "cell_type": "code",
   "execution_count": 26,
   "metadata": {},
   "outputs": [],
   "source": [
    "regex = \"[/\\$()\\[\\]!?%&*:.=\\^,\\+\\s\\t\\n#]\""
   ]
  },
  {
   "cell_type": "code",
   "execution_count": 27,
   "metadata": {
    "collapsed": true
   },
   "outputs": [
    {
     "data": {
      "text/plain": [
       "['fun',\n",
       " 'little',\n",
       " 'place',\n",
       " 'to',\n",
       " 'stop',\n",
       " 'and',\n",
       " 'have',\n",
       " 'lunch',\n",
       " '',\n",
       " 'there',\n",
       " 'was',\n",
       " 'plenty',\n",
       " 'of',\n",
       " 'parking',\n",
       " 'out',\n",
       " 'back',\n",
       " '',\n",
       " 'and',\n",
       " 'more',\n",
       " 'tables',\n",
       " 'on',\n",
       " 'the',\n",
       " 'patio',\n",
       " 'than',\n",
       " 'there',\n",
       " 'was',\n",
       " 'inside',\n",
       " '',\n",
       " 'the',\n",
       " 'lunch',\n",
       " 'menu',\n",
       " 'has',\n",
       " 'all',\n",
       " 'the',\n",
       " 'basics',\n",
       " '',\n",
       " 'i',\n",
       " 'chose',\n",
       " 'the',\n",
       " 'turkey',\n",
       " 'sandwich',\n",
       " 'which',\n",
       " 'was',\n",
       " 'very',\n",
       " 'moist',\n",
       " 'and',\n",
       " 'tasty',\n",
       " '',\n",
       " 'i',\n",
       " 'also',\n",
       " 'ordered',\n",
       " 'a',\n",
       " 'strawberry',\n",
       " 'banana',\n",
       " 'smoothie',\n",
       " 'which',\n",
       " 'hit',\n",
       " 'the',\n",
       " 'spot',\n",
       " 'on',\n",
       " 'this',\n",
       " 'hot',\n",
       " 'day',\n",
       " '',\n",
       " 'this',\n",
       " 'a',\n",
       " 'dog',\n",
       " 'friendly',\n",
       " 'place',\n",
       " 'that',\n",
       " 'has',\n",
       " 'tie',\n",
       " 'outs',\n",
       " 'here',\n",
       " 'and',\n",
       " 'there',\n",
       " '']"
      ]
     },
     "execution_count": 27,
     "metadata": {},
     "output_type": "execute_result"
    }
   ],
   "source": [
    "tokens = re.split(regex,df1['text'][0].lower()) \n",
    "tokens"
   ]
  },
  {
   "cell_type": "code",
   "execution_count": 35,
   "metadata": {},
   "outputs": [
    {
     "data": {
      "text/plain": [
       "'we board the plane 30 minutes before the actual flight  to make sure that we leave on time  the flight from las vegas to sacramento took 1 hour and 15 minutes  not bad at all  during our 1 hour and 15 minute flight  the servers were very kind and polite  they serve soda  oranges  water  roasted peanuts  and pretzels while you are in there  the flight is a breeze and i wasnt afraid at all  it was a nice experience and i hope to be able to go on another trip with southwest airlines again  '"
      ]
     },
     "execution_count": 35,
     "metadata": {},
     "output_type": "execute_result"
    }
   ],
   "source": [
    "merge_tokens(remove_stopwords(re.split(regex,df1['text'][2].lower()),sw['stopwords']))"
   ]
  },
  {
   "cell_type": "code",
   "execution_count": 32,
   "metadata": {},
   "outputs": [
    {
     "data": {
      "text/plain": [
       "'We board the plane 30 minutes before the actual flight  to make sure that we leave on time! The flight from Las Vegas to Sacramento took 1 hour and 15 minutes! Not bad at all! During our 1 hour and 15 minute flight  the servers were very kind and polite  They serve soda  oranges  water  roasted peanuts  and pretzels while you are in there  The flight is a breeze and I wasnt afraid at all! It was a nice experience and I hope to be able to go on another trip with Southwest Airlines again '"
      ]
     },
     "execution_count": 32,
     "metadata": {},
     "output_type": "execute_result"
    }
   ],
   "source": [
    "df1['text'][2]"
   ]
  },
  {
   "cell_type": "code",
   "execution_count": null,
   "metadata": {},
   "outputs": [],
   "source": []
  }
 ],
 "metadata": {
  "kernelspec": {
   "display_name": "Python 3",
   "language": "python",
   "name": "python3"
  },
  "language_info": {
   "codemirror_mode": {
    "name": "ipython",
    "version": 3
   },
   "file_extension": ".py",
   "mimetype": "text/x-python",
   "name": "python",
   "nbconvert_exporter": "python",
   "pygments_lexer": "ipython3",
   "version": "3.7.4"
  }
 },
 "nbformat": 4,
 "nbformat_minor": 2
}
