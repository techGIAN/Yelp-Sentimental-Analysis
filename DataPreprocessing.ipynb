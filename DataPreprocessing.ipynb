{
 "cells": [
  {
   "cell_type": "code",
   "execution_count": 2,
   "metadata": {},
   "outputs": [],
   "source": [
    "import pandas as pd\n",
    "import matplotlib.pyplot as plt; plt.rcdefaults()\n",
    "import numpy as np\n",
    "import matplotlib.pyplot as plt\n",
    "import re"
   ]
  },
  {
   "cell_type": "code",
   "execution_count": 90,
   "metadata": {},
   "outputs": [],
   "source": [
    "df = pd.read_csv(\"data/train3.csv\")"
   ]
  },
  {
   "cell_type": "code",
   "execution_count": 20,
   "metadata": {},
   "outputs": [],
   "source": [
    "    # temporary\n",
    "df_temp = df"
   ]
  },
  {
   "cell_type": "code",
   "execution_count": 36,
   "metadata": {},
   "outputs": [],
   "source": [
    "    # reset\n",
    "df = df_temp"
   ]
  },
  {
   "cell_type": "code",
   "execution_count": 91,
   "metadata": {},
   "outputs": [
    {
     "data": {
      "text/html": [
       "<div>\n",
       "<style scoped>\n",
       "    .dataframe tbody tr th:only-of-type {\n",
       "        vertical-align: middle;\n",
       "    }\n",
       "\n",
       "    .dataframe tbody tr th {\n",
       "        vertical-align: top;\n",
       "    }\n",
       "\n",
       "    .dataframe thead th {\n",
       "        text-align: right;\n",
       "    }\n",
       "</style>\n",
       "<table border=\"1\" class=\"dataframe\">\n",
       "  <thead>\n",
       "    <tr style=\"text-align: right;\">\n",
       "      <th></th>\n",
       "      <th>text</th>\n",
       "      <th>class</th>\n",
       "      <th>ID</th>\n",
       "    </tr>\n",
       "  </thead>\n",
       "  <tbody>\n",
       "    <tr>\n",
       "      <td>0</td>\n",
       "      <td>Fun little place to stop and have lunch  There...</td>\n",
       "      <td>positive</td>\n",
       "      <td>1307144</td>\n",
       "    </tr>\n",
       "    <tr>\n",
       "      <td>1</td>\n",
       "      <td>This place was PACKED  Went for late night foo...</td>\n",
       "      <td>negative</td>\n",
       "      <td>5544361</td>\n",
       "    </tr>\n",
       "    <tr>\n",
       "      <td>2</td>\n",
       "      <td>We board the plane 30 minutes before the actua...</td>\n",
       "      <td>positive</td>\n",
       "      <td>5956200</td>\n",
       "    </tr>\n",
       "    <tr>\n",
       "      <td>3</td>\n",
       "      <td>Chaotic 4 story place  but fun for kids  The w...</td>\n",
       "      <td>positive</td>\n",
       "      <td>718388</td>\n",
       "    </tr>\n",
       "    <tr>\n",
       "      <td>4</td>\n",
       "      <td>After (intentionally) capsizing a sailboat in ...</td>\n",
       "      <td>neutral</td>\n",
       "      <td>174754</td>\n",
       "    </tr>\n",
       "  </tbody>\n",
       "</table>\n",
       "</div>"
      ],
      "text/plain": [
       "                                                text     class       ID\n",
       "0  Fun little place to stop and have lunch  There...  positive  1307144\n",
       "1  This place was PACKED  Went for late night foo...  negative  5544361\n",
       "2  We board the plane 30 minutes before the actua...  positive  5956200\n",
       "3  Chaotic 4 story place  but fun for kids  The w...  positive   718388\n",
       "4  After (intentionally) capsizing a sailboat in ...   neutral   174754"
      ]
     },
     "execution_count": 91,
     "metadata": {},
     "output_type": "execute_result"
    }
   ],
   "source": [
    "df.head()"
   ]
  },
  {
   "cell_type": "code",
   "execution_count": 92,
   "metadata": {},
   "outputs": [
    {
     "data": {
      "text/html": [
       "<div>\n",
       "<style scoped>\n",
       "    .dataframe tbody tr th:only-of-type {\n",
       "        vertical-align: middle;\n",
       "    }\n",
       "\n",
       "    .dataframe tbody tr th {\n",
       "        vertical-align: top;\n",
       "    }\n",
       "\n",
       "    .dataframe thead th {\n",
       "        text-align: right;\n",
       "    }\n",
       "</style>\n",
       "<table border=\"1\" class=\"dataframe\">\n",
       "  <thead>\n",
       "    <tr style=\"text-align: right;\">\n",
       "      <th></th>\n",
       "      <th>text</th>\n",
       "      <th>class</th>\n",
       "      <th>ID</th>\n",
       "    </tr>\n",
       "  </thead>\n",
       "  <tbody>\n",
       "    <tr>\n",
       "      <td>0</td>\n",
       "      <td>Fun little place to stop and have lunch  There...</td>\n",
       "      <td>0</td>\n",
       "      <td>1307144</td>\n",
       "    </tr>\n",
       "    <tr>\n",
       "      <td>1</td>\n",
       "      <td>This place was PACKED  Went for late night foo...</td>\n",
       "      <td>negative</td>\n",
       "      <td>5544361</td>\n",
       "    </tr>\n",
       "    <tr>\n",
       "      <td>2</td>\n",
       "      <td>We board the plane 30 minutes before the actua...</td>\n",
       "      <td>0</td>\n",
       "      <td>5956200</td>\n",
       "    </tr>\n",
       "    <tr>\n",
       "      <td>3</td>\n",
       "      <td>Chaotic 4 story place  but fun for kids  The w...</td>\n",
       "      <td>0</td>\n",
       "      <td>718388</td>\n",
       "    </tr>\n",
       "    <tr>\n",
       "      <td>4</td>\n",
       "      <td>After (intentionally) capsizing a sailboat in ...</td>\n",
       "      <td>neutral</td>\n",
       "      <td>174754</td>\n",
       "    </tr>\n",
       "  </tbody>\n",
       "</table>\n",
       "</div>"
      ],
      "text/plain": [
       "                                                text     class       ID\n",
       "0  Fun little place to stop and have lunch  There...         0  1307144\n",
       "1  This place was PACKED  Went for late night foo...  negative  5544361\n",
       "2  We board the plane 30 minutes before the actua...         0  5956200\n",
       "3  Chaotic 4 story place  but fun for kids  The w...         0   718388\n",
       "4  After (intentionally) capsizing a sailboat in ...   neutral   174754"
      ]
     },
     "execution_count": 92,
     "metadata": {},
     "output_type": "execute_result"
    }
   ],
   "source": [
    "df['class'] = df['class'].replace('positive',0)\n",
    "df.head()"
   ]
  },
  {
   "cell_type": "code",
   "execution_count": 63,
   "metadata": {},
   "outputs": [
    {
     "data": {
      "text/plain": [
       "1"
      ]
     },
     "execution_count": 63,
     "metadata": {},
     "output_type": "execute_result"
    }
   ],
   "source": [
    "np.random.randint(0,2)"
   ]
  },
  {
   "cell_type": "code",
   "execution_count": 21,
   "metadata": {},
   "outputs": [
    {
     "data": {
      "text/html": [
       "<div>\n",
       "<style scoped>\n",
       "    .dataframe tbody tr th:only-of-type {\n",
       "        vertical-align: middle;\n",
       "    }\n",
       "\n",
       "    .dataframe tbody tr th {\n",
       "        vertical-align: top;\n",
       "    }\n",
       "\n",
       "    .dataframe thead th {\n",
       "        text-align: right;\n",
       "    }\n",
       "</style>\n",
       "<table border=\"1\" class=\"dataframe\">\n",
       "  <thead>\n",
       "    <tr style=\"text-align: right;\">\n",
       "      <th></th>\n",
       "      <th>text</th>\n",
       "      <th>class</th>\n",
       "      <th>ID</th>\n",
       "    </tr>\n",
       "  </thead>\n",
       "  <tbody>\n",
       "    <tr>\n",
       "      <td>3</td>\n",
       "      <td>Chaotic 4 story place  but fun for kids  The w...</td>\n",
       "      <td>positive</td>\n",
       "      <td>718388</td>\n",
       "    </tr>\n",
       "    <tr>\n",
       "      <td>4</td>\n",
       "      <td>After (intentionally) capsizing a sailboat in ...</td>\n",
       "      <td>neutral</td>\n",
       "      <td>174754</td>\n",
       "    </tr>\n",
       "  </tbody>\n",
       "</table>\n",
       "</div>"
      ],
      "text/plain": [
       "                                                text     class      ID\n",
       "3  Chaotic 4 story place  but fun for kids  The w...  positive  718388\n",
       "4  After (intentionally) capsizing a sailboat in ...   neutral  174754"
      ]
     },
     "execution_count": 21,
     "metadata": {},
     "output_type": "execute_result"
    }
   ],
   "source": [
    "df1 = df.head()\n",
    "df2 = df.head(3)\n",
    "\n",
    "df_all = df1.merge(df2.drop_duplicates(), on=list(df.columns.values), \n",
    "                   how='left', indicator=True)\n",
    "df_all = df_all[df_all['_merge'] == 'left_only']\n",
    "new_df = df_all.drop(['_merge'], axis=1)\n",
    "new_df"
   ]
  },
  {
   "cell_type": "code",
   "execution_count": 4,
   "metadata": {},
   "outputs": [],
   "source": [
    "sw = pd.read_csv(\"stopwords.csv\")"
   ]
  },
  {
   "cell_type": "code",
   "execution_count": 5,
   "metadata": {},
   "outputs": [
    {
     "data": {
      "text/html": [
       "<div>\n",
       "<style scoped>\n",
       "    .dataframe tbody tr th:only-of-type {\n",
       "        vertical-align: middle;\n",
       "    }\n",
       "\n",
       "    .dataframe tbody tr th {\n",
       "        vertical-align: top;\n",
       "    }\n",
       "\n",
       "    .dataframe thead th {\n",
       "        text-align: right;\n",
       "    }\n",
       "</style>\n",
       "<table border=\"1\" class=\"dataframe\">\n",
       "  <thead>\n",
       "    <tr style=\"text-align: right;\">\n",
       "      <th></th>\n",
       "      <th>stopwords</th>\n",
       "    </tr>\n",
       "  </thead>\n",
       "  <tbody>\n",
       "    <tr>\n",
       "      <td>0</td>\n",
       "      <td>a</td>\n",
       "    </tr>\n",
       "    <tr>\n",
       "      <td>1</td>\n",
       "      <td>about</td>\n",
       "    </tr>\n",
       "    <tr>\n",
       "      <td>2</td>\n",
       "      <td>above</td>\n",
       "    </tr>\n",
       "    <tr>\n",
       "      <td>3</td>\n",
       "      <td>across</td>\n",
       "    </tr>\n",
       "    <tr>\n",
       "      <td>4</td>\n",
       "      <td>after</td>\n",
       "    </tr>\n",
       "  </tbody>\n",
       "</table>\n",
       "</div>"
      ],
      "text/plain": [
       "  stopwords\n",
       "0         a\n",
       "1     about\n",
       "2     above\n",
       "3    across\n",
       "4     after"
      ]
     },
     "execution_count": 5,
     "metadata": {},
     "output_type": "execute_result"
    }
   ],
   "source": [
    "sw.head()"
   ]
  },
  {
   "cell_type": "code",
   "execution_count": 7,
   "metadata": {},
   "outputs": [
    {
     "data": {
      "text/plain": [
       "56000"
      ]
     },
     "execution_count": 7,
     "metadata": {},
     "output_type": "execute_result"
    }
   ],
   "source": [
    "len(df)"
   ]
  },
  {
   "cell_type": "code",
   "execution_count": 12,
   "metadata": {},
   "outputs": [],
   "source": [
    "stop_list = set()\n",
    "for stopword in sw['stopwords']:\n",
    "    stop_list.add(stopword)\n",
    "stop_list = list(stop_list)\n",
    "stop_list.sort()"
   ]
  },
  {
   "cell_type": "code",
   "execution_count": 13,
   "metadata": {},
   "outputs": [
    {
     "data": {
      "text/plain": [
       "'a'"
      ]
     },
     "execution_count": 13,
     "metadata": {},
     "output_type": "execute_result"
    }
   ],
   "source": [
    "stop_list[0]"
   ]
  },
  {
   "cell_type": "code",
   "execution_count": 26,
   "metadata": {},
   "outputs": [],
   "source": [
    "def remove_stopwords(tokens):\n",
    "    new_tokens = []\n",
    "    for i in range(len(tokens)):\n",
    "        if tokens[i].lower() not in stop_list:\n",
    "            new_tokens.append(tokens[i].lower())\n",
    "    return new_tokens\n",
    "\n",
    "def preprocess(sentence):\n",
    "    tokens = sentence.split()\n",
    "    new_tokens = remove_stopwords(tokens)\n",
    "    return new_tokens"
   ]
  },
  {
   "cell_type": "code",
   "execution_count": 19,
   "metadata": {},
   "outputs": [
    {
     "data": {
      "text/plain": [
       "['want', 'cook', 'eat']"
      ]
     },
     "execution_count": 19,
     "metadata": {},
     "output_type": "execute_result"
    }
   ],
   "source": [
    "example = 'I want to cook and eat'\n",
    "preprocess(example.lower())"
   ]
  },
  {
   "cell_type": "code",
   "execution_count": 38,
   "metadata": {},
   "outputs": [
    {
     "name": "stderr",
     "output_type": "stream",
     "text": [
      "/opt/anaconda3/lib/python3.7/site-packages/ipykernel_launcher.py:2: SettingWithCopyWarning: \n",
      "A value is trying to be set on a copy of a slice from a DataFrame\n",
      "\n",
      "See the caveats in the documentation: http://pandas.pydata.org/pandas-docs/stable/user_guide/indexing.html#returning-a-view-versus-a-copy\n",
      "  \n"
     ]
    }
   ],
   "source": [
    "for i in range(len(df)):\n",
    "    df['text'][i] = preprocess(df['text'][i])"
   ]
  },
  {
   "cell_type": "code",
   "execution_count": 39,
   "metadata": {},
   "outputs": [
    {
     "data": {
      "text/plain": [
       "['fun',\n",
       " 'little',\n",
       " 'place',\n",
       " 'stop',\n",
       " 'lunch',\n",
       " 'plenty',\n",
       " 'parking',\n",
       " 'tables',\n",
       " 'patio',\n",
       " 'inside',\n",
       " 'lunch',\n",
       " 'menu',\n",
       " 'basics',\n",
       " 'chose',\n",
       " 'turkey',\n",
       " 'sandwich',\n",
       " 'moist',\n",
       " 'tasty',\n",
       " 'ordered',\n",
       " 'strawberry',\n",
       " 'banana',\n",
       " 'smoothie',\n",
       " 'hit',\n",
       " 'spot',\n",
       " 'hot',\n",
       " 'day',\n",
       " 'dog',\n",
       " 'friendly',\n",
       " 'place',\n",
       " 'tie',\n",
       " 'outs']"
      ]
     },
     "execution_count": 39,
     "metadata": {},
     "output_type": "execute_result"
    }
   ],
   "source": [
    "df['text'][0]"
   ]
  },
  {
   "cell_type": "code",
   "execution_count": 40,
   "metadata": {},
   "outputs": [
    {
     "data": {
      "text/html": [
       "<div>\n",
       "<style scoped>\n",
       "    .dataframe tbody tr th:only-of-type {\n",
       "        vertical-align: middle;\n",
       "    }\n",
       "\n",
       "    .dataframe tbody tr th {\n",
       "        vertical-align: top;\n",
       "    }\n",
       "\n",
       "    .dataframe thead th {\n",
       "        text-align: right;\n",
       "    }\n",
       "</style>\n",
       "<table border=\"1\" class=\"dataframe\">\n",
       "  <thead>\n",
       "    <tr style=\"text-align: right;\">\n",
       "      <th></th>\n",
       "      <th>text</th>\n",
       "      <th>class</th>\n",
       "      <th>ID</th>\n",
       "    </tr>\n",
       "  </thead>\n",
       "  <tbody>\n",
       "    <tr>\n",
       "      <td>0</td>\n",
       "      <td>[fun, little, place, stop, lunch, plenty, park...</td>\n",
       "      <td>positive</td>\n",
       "      <td>1307144</td>\n",
       "    </tr>\n",
       "    <tr>\n",
       "      <td>1</td>\n",
       "      <td>[place, packed, went, late, night, food, serve...</td>\n",
       "      <td>negative</td>\n",
       "      <td>5544361</td>\n",
       "    </tr>\n",
       "    <tr>\n",
       "      <td>2</td>\n",
       "      <td>[board, plane, 30, minutes, actual, flight, ma...</td>\n",
       "      <td>positive</td>\n",
       "      <td>5956200</td>\n",
       "    </tr>\n",
       "    <tr>\n",
       "      <td>3</td>\n",
       "      <td>[chaotic, 4, story, place, fun, kids, white, c...</td>\n",
       "      <td>positive</td>\n",
       "      <td>718388</td>\n",
       "    </tr>\n",
       "    <tr>\n",
       "      <td>4</td>\n",
       "      <td>[(intentionally), capsizing, sailboat, ttl, sp...</td>\n",
       "      <td>neutral</td>\n",
       "      <td>174754</td>\n",
       "    </tr>\n",
       "  </tbody>\n",
       "</table>\n",
       "</div>"
      ],
      "text/plain": [
       "                                                text     class       ID\n",
       "0  [fun, little, place, stop, lunch, plenty, park...  positive  1307144\n",
       "1  [place, packed, went, late, night, food, serve...  negative  5544361\n",
       "2  [board, plane, 30, minutes, actual, flight, ma...  positive  5956200\n",
       "3  [chaotic, 4, story, place, fun, kids, white, c...  positive   718388\n",
       "4  [(intentionally), capsizing, sailboat, ttl, sp...   neutral   174754"
      ]
     },
     "execution_count": 40,
     "metadata": {},
     "output_type": "execute_result"
    }
   ],
   "source": [
    "df.head()"
   ]
  },
  {
   "cell_type": "code",
   "execution_count": 122,
   "metadata": {},
   "outputs": [],
   "source": [
    "def unique_count(texts):\n",
    "    counts = dict()\n",
    "    for reviews in texts:\n",
    "        for token in reviews:\n",
    "            if token in counts:\n",
    "                counts[token] = counts[token] + 1\n",
    "            else:\n",
    "                counts[token] = 1\n",
    "    return counts"
   ]
  },
  {
   "cell_type": "code",
   "execution_count": 85,
   "metadata": {},
   "outputs": [],
   "source": [
    "token_counts = unique_count(df['text'])\n",
    "token_counts = sorted(token_counts.items(), key = lambda tc:(tc[1], tc[0]))\n",
    "unique_count = len(token_counts)"
   ]
  },
  {
   "cell_type": "code",
   "execution_count": 89,
   "metadata": {},
   "outputs": [
    {
     "name": "stdout",
     "output_type": "stream",
     "text": [
      "Least-frequent 10:\n",
      "('!!!!!!!!', 1)\n",
      "('!!!!!!!!!!!!!!!!', 1)\n",
      "('!!!!!!!!!!!!!!!!!!!!!!!!someone', 1)\n",
      "('!!!!!!!!!!!!they', 1)\n",
      "('!!!!!!!!!!bacon!!!!!!!!', 1)\n",
      "('!!!!!!!the', 1)\n",
      "('!!!!!avoid', 1)\n",
      "('!!!!!close', 1)\n",
      "('!!!!!she', 1)\n",
      "('!!!!##couldnt', 1)\n",
      "Most-frequent 10:\n",
      "('best', 8254)\n",
      "('really', 10249)\n",
      "('just', 13012)\n",
      "('like', 13071)\n",
      "('time', 13645)\n",
      "('service', 16745)\n",
      "('good', 21619)\n",
      "('great', 21813)\n",
      "('place', 21993)\n",
      "('food', 23038)\n"
     ]
    }
   ],
   "source": [
    "top_tokens = []\n",
    "top_counts = []\n",
    "print(\"Least-frequent 10:\")\n",
    "for i in range(10):\n",
    "    print(token_counts[i])\n",
    "print(\"Most-frequent 10:\")\n",
    "for j in range(unique_count-10,unique_count):\n",
    "    print(token_counts[j])\n",
    "    top_tokens.append(token_counts[j][0])\n",
    "    top_counts.append(token_counts[j][1])"
   ]
  },
  {
   "cell_type": "code",
   "execution_count": 107,
   "metadata": {},
   "outputs": [
    {
     "data": {
      "image/png": "[encoded data removed]",
      "text/plain": [
       "<Figure size 720x360 with 1 Axes>"
      ]
     },
     "metadata": {
      "needs_background": "light"
     },
     "output_type": "display_data"
    }
   ],
   "source": [
    "y_pos = np.arange(10)\n",
    "\n",
    "plt.figure(figsize=(10,5))\n",
    "\n",
    "plt.bar(y_pos, top_counts, align='center', alpha=1)\n",
    "plt.xticks(y_pos, top_tokens, rotation=30)\n",
    "plt.ylabel('Number of Words')\n",
    "plt.title('Top 10 Most Frequent Words')\n",
    "\n",
    "for i in range(10):\n",
    "    plt.text(x = i-0.275 , y = top_counts[i]+250, s = top_counts[i], size = 10)\n",
    "\n",
    "plt.show()"
   ]
  },
  {
   "cell_type": "code",
   "execution_count": 70,
   "metadata": {},
   "outputs": [
    {
     "data": {
      "text/plain": [
       "[('K3', 9), ('K4', 7), ('K1', 5), ('K2', 3)]"
      ]
     },
     "execution_count": 70,
     "metadata": {},
     "output_type": "execute_result"
    }
   ],
   "source": [
    "token_counts = {\"K1\":5, \"K2\":3, \"K3\":9, \"K4\":7}\n",
    "token_counts = sorted(token_counts.items(), key = lambda tc:(tc[1], tc[0]), reverse=True)\n",
    "token_counts"
   ]
  },
  {
   "cell_type": "code",
   "execution_count": 51,
   "metadata": {},
   "outputs": [
    {
     "name": "stdout",
     "output_type": "stream",
     "text": [
      "('K3', 9)\n",
      "('K3', 9)\n"
     ]
    }
   ],
   "source": [
    "print(next(iter(token_counts)))\n",
    "print(next(iter(token_counts)))"
   ]
  },
  {
   "cell_type": "code",
   "execution_count": 76,
   "metadata": {},
   "outputs": [
    {
     "data": {
      "text/plain": [
       "'K4'"
      ]
     },
     "execution_count": 76,
     "metadata": {},
     "output_type": "execute_result"
    }
   ],
   "source": [
    "token_counts[1][0]"
   ]
  },
  {
   "cell_type": "code",
   "execution_count": 54,
   "metadata": {},
   "outputs": [
    {
     "data": {
      "text/plain": [
       "4"
      ]
     },
     "execution_count": 54,
     "metadata": {},
     "output_type": "execute_result"
    }
   ],
   "source": [
    "len(token_counts)"
   ]
  },
  {
   "cell_type": "code",
   "execution_count": 63,
   "metadata": {},
   "outputs": [
    {
     "name": "stdout",
     "output_type": "stream",
     "text": [
      "2\n",
      "3\n"
     ]
    }
   ],
   "source": [
    "for k in range(2,4):\n",
    "    print(k)"
   ]
  },
  {
   "cell_type": "code",
   "execution_count": 80,
   "metadata": {},
   "outputs": [
    {
     "data": {
      "text/plain": [
       "[('K3', 9), ('K4', 7), ('K1', 5), ('K2', 3)]"
      ]
     },
     "execution_count": 80,
     "metadata": {},
     "output_type": "execute_result"
    }
   ],
   "source": [
    "token_counts"
   ]
  },
  {
   "cell_type": "code",
   "execution_count": 82,
   "metadata": {},
   "outputs": [
    {
     "data": {
      "text/html": [
       "<div>\n",
       "<style scoped>\n",
       "    .dataframe tbody tr th:only-of-type {\n",
       "        vertical-align: middle;\n",
       "    }\n",
       "\n",
       "    .dataframe tbody tr th {\n",
       "        vertical-align: top;\n",
       "    }\n",
       "\n",
       "    .dataframe thead th {\n",
       "        text-align: right;\n",
       "    }\n",
       "</style>\n",
       "<table border=\"1\" class=\"dataframe\">\n",
       "  <thead>\n",
       "    <tr style=\"text-align: right;\">\n",
       "      <th></th>\n",
       "      <th>text</th>\n",
       "      <th>class</th>\n",
       "      <th>ID</th>\n",
       "    </tr>\n",
       "  </thead>\n",
       "  <tbody>\n",
       "    <tr>\n",
       "      <td>0</td>\n",
       "      <td>[fun, little, place, stop, lunch, plenty, park...</td>\n",
       "      <td>positive</td>\n",
       "      <td>1307144</td>\n",
       "    </tr>\n",
       "    <tr>\n",
       "      <td>1</td>\n",
       "      <td>[place, packed, went, late, night, food, serve...</td>\n",
       "      <td>negative</td>\n",
       "      <td>5544361</td>\n",
       "    </tr>\n",
       "    <tr>\n",
       "      <td>2</td>\n",
       "      <td>[board, plane, 30, minutes, actual, flight, ma...</td>\n",
       "      <td>positive</td>\n",
       "      <td>5956200</td>\n",
       "    </tr>\n",
       "    <tr>\n",
       "      <td>3</td>\n",
       "      <td>[chaotic, 4, story, place, fun, kids, white, c...</td>\n",
       "      <td>positive</td>\n",
       "      <td>718388</td>\n",
       "    </tr>\n",
       "    <tr>\n",
       "      <td>4</td>\n",
       "      <td>[(intentionally), capsizing, sailboat, ttl, sp...</td>\n",
       "      <td>neutral</td>\n",
       "      <td>174754</td>\n",
       "    </tr>\n",
       "  </tbody>\n",
       "</table>\n",
       "</div>"
      ],
      "text/plain": [
       "                                                text     class       ID\n",
       "0  [fun, little, place, stop, lunch, plenty, park...  positive  1307144\n",
       "1  [place, packed, went, late, night, food, serve...  negative  5544361\n",
       "2  [board, plane, 30, minutes, actual, flight, ma...  positive  5956200\n",
       "3  [chaotic, 4, story, place, fun, kids, white, c...  positive   718388\n",
       "4  [(intentionally), capsizing, sailboat, ttl, sp...   neutral   174754"
      ]
     },
     "execution_count": 82,
     "metadata": {},
     "output_type": "execute_result"
    }
   ],
   "source": [
    "df.head()"
   ]
  },
  {
   "cell_type": "code",
   "execution_count": 118,
   "metadata": {},
   "outputs": [
    {
     "name": "stdout",
     "output_type": "stream",
     "text": [
      "Least-frequent 20:\n",
      "('!!!!!!!!', 1)\n",
      "('!!!!!!!!!!!!!!!!', 1)\n",
      "('!!!!!!!!!!!!!!!!!!!!!!!!someone', 1)\n",
      "('!!!!!!!!!!!!they', 1)\n",
      "('!!!!!!!!!!bacon!!!!!!!!', 1)\n",
      "('!!!!!!!the', 1)\n",
      "('!!!!!avoid', 1)\n",
      "('!!!!!close', 1)\n",
      "('!!!!!she', 1)\n",
      "('!!!!##couldnt', 1)\n",
      "('!!!!after', 1)\n",
      "('!!!!food', 1)\n",
      "('!!!!really?????', 1)\n",
      "('!!!!they', 1)\n",
      "('!!!2', 1)\n",
      "('!!!a', 1)\n",
      "('!!!again', 1)\n",
      "('!!!awesome', 1)\n",
      "('!!!good', 1)\n",
      "('!!!great', 1)\n",
      "Most-frequent 20:\n",
      "('ordered', 6055)\n",
      "('im', 6484)\n",
      "('definitely', 6763)\n",
      "('ive', 7000)\n",
      "('dont', 7558)\n",
      "('friendly', 7638)\n",
      "('got', 7655)\n",
      "('staff', 7740)\n",
      "('love', 7975)\n",
      "('nice', 7997)\n",
      "('best', 8254)\n",
      "('really', 10249)\n",
      "('just', 13012)\n",
      "('like', 13071)\n",
      "('time', 13645)\n",
      "('service', 16745)\n",
      "('good', 21619)\n",
      "('great', 21813)\n",
      "('place', 21993)\n",
      "('food', 23038)\n"
     ]
    },
    {
     "data": {
      "image/png": "[encoded data removed]",
      "text/plain": [
       "<Figure size 720x360 with 1 Axes>"
      ]
     },
     "metadata": {
      "needs_background": "light"
     },
     "output_type": "display_data"
    }
   ],
   "source": [
    "token_counts = unique_count(df['text'])\n",
    "token_counts = sorted(token_counts.items(), key = lambda tc:(tc[1], tc[0]))\n",
    "unique_count = len(token_counts)\n",
    "top_tokens = []\n",
    "top_counts = []\n",
    "print(\"Least-frequent 20:\")\n",
    "for i in range(20):\n",
    "    print(token_counts[i])\n",
    "print(\"Most-frequent 20:\")\n",
    "for j in range(unique_count-20,unique_count):\n",
    "    print(token_counts[j])\n",
    "    top_tokens.append(token_counts[j][0])\n",
    "    top_counts.append(token_counts[j][1])\n",
    "y_pos = np.arange(20)\n",
    "\n",
    "plt.figure(figsize=(10,5))\n",
    "\n",
    "plt.bar(y_pos, top_counts, align='center', alpha=1)\n",
    "plt.xticks(y_pos, top_tokens, rotation=30)\n",
    "plt.ylabel('Number of Words')\n",
    "plt.title('Top 10 Most Frequent Words')\n",
    "\n",
    "for i in range(20):\n",
    "    plt.text(x = i-0.275 , y = top_counts[i]+250, s = top_counts[i], size = 10)\n",
    "\n",
    "plt.show()"
   ]
  },
  {
   "cell_type": "code",
   "execution_count": 123,
   "metadata": {},
   "outputs": [],
   "source": [
    "token_counts = unique_count(df['text'])\n",
    "dict_items = token_counts.items()\n",
    "dict_list = list(dict_items)\n",
    "\n",
    "nf = pd.DataFrame(dict_list)"
   ]
  },
  {
   "cell_type": "code",
   "execution_count": 126,
   "metadata": {},
   "outputs": [
    {
     "data": {
      "text/html": [
       "<div>\n",
       "<style scoped>\n",
       "    .dataframe tbody tr th:only-of-type {\n",
       "        vertical-align: middle;\n",
       "    }\n",
       "\n",
       "    .dataframe tbody tr th {\n",
       "        vertical-align: top;\n",
       "    }\n",
       "\n",
       "    .dataframe thead th {\n",
       "        text-align: right;\n",
       "    }\n",
       "</style>\n",
       "<table border=\"1\" class=\"dataframe\">\n",
       "  <thead>\n",
       "    <tr style=\"text-align: right;\">\n",
       "      <th></th>\n",
       "      <th>token</th>\n",
       "      <th>count</th>\n",
       "    </tr>\n",
       "  </thead>\n",
       "  <tbody>\n",
       "    <tr>\n",
       "      <td>0</td>\n",
       "      <td>fun</td>\n",
       "      <td>2039</td>\n",
       "    </tr>\n",
       "    <tr>\n",
       "      <td>1</td>\n",
       "      <td>little</td>\n",
       "      <td>5552</td>\n",
       "    </tr>\n",
       "    <tr>\n",
       "      <td>2</td>\n",
       "      <td>place</td>\n",
       "      <td>21993</td>\n",
       "    </tr>\n",
       "    <tr>\n",
       "      <td>3</td>\n",
       "      <td>stop</td>\n",
       "      <td>1509</td>\n",
       "    </tr>\n",
       "    <tr>\n",
       "      <td>4</td>\n",
       "      <td>lunch</td>\n",
       "      <td>3593</td>\n",
       "    </tr>\n",
       "  </tbody>\n",
       "</table>\n",
       "</div>"
      ],
      "text/plain": [
       "    token  count\n",
       "0     fun   2039\n",
       "1  little   5552\n",
       "2   place  21993\n",
       "3    stop   1509\n",
       "4   lunch   3593"
      ]
     },
     "execution_count": 126,
     "metadata": {},
     "output_type": "execute_result"
    }
   ],
   "source": [
    "nf.columns = ['token','count']\n",
    "nf.head()"
   ]
  },
  {
   "cell_type": "code",
   "execution_count": 128,
   "metadata": {},
   "outputs": [],
   "source": [
    "nf.to_csv(\"token_and_count.csv\",index=False)"
   ]
  },
  {
   "cell_type": "code",
   "execution_count": 17,
   "metadata": {},
   "outputs": [
    {
     "data": {
      "text/plain": [
       "['H', 'ello', 'I', 'am', 'the', 'person', 'do', 'cause', 'this', 'test', 'r']"
      ]
     },
     "execution_count": 17,
     "metadata": {},
     "output_type": "execute_result"
    }
   ],
   "source": [
    "# special_chars = ['/', '$', '(', ')', '[', ']', '!', '?', ',', '']\n",
    "\n",
    "# regex = '/$()[]!?^,\\s\\t\\n'\n",
    "regex = \"[/\\$()\\[\\]!?\\^,\\+\\s\\t\\n]\"\n",
    "text = \"H!ello/I am^the?person(do[cause)this]test$r\"\n",
    "new_sentence = re.split(regex, text)\n",
    "new_sentence"
   ]
  },
  {
   "cell_type": "code",
   "execution_count": 32,
   "metadata": {},
   "outputs": [
    {
     "data": {
      "text/plain": [
       "[1, 2, 3, 4, 5, 6]"
      ]
     },
     "execution_count": 32,
     "metadata": {},
     "output_type": "execute_result"
    }
   ],
   "source": [
    "some_list = [1,2,3,4]\n",
    "another_list = [5,6]\n",
    "new_list = some_list + another_list\n",
    "new_list"
   ]
  },
  {
   "cell_type": "code",
   "execution_count": 31,
   "metadata": {},
   "outputs": [],
   "source": []
  },
  {
   "cell_type": "code",
   "execution_count": 18,
   "metadata": {},
   "outputs": [],
   "source": [
    "### Let's have a cleaner code.\n",
    "### All code above this are for testing purpose only.\n",
    "### ===========================================================================================================\n",
    "### ==========================================================================================================="
   ]
  },
  {
   "cell_type": "code",
   "execution_count": 2,
   "metadata": {},
   "outputs": [],
   "source": [
    "df = pd.read_csv(\"data/train3.csv\")\n",
    "sw = pd.read_csv(\"stopwords.csv\")"
   ]
  },
  {
   "cell_type": "code",
   "execution_count": 3,
   "metadata": {},
   "outputs": [
    {
     "data": {
      "text/html": [
       "<div>\n",
       "<style scoped>\n",
       "    .dataframe tbody tr th:only-of-type {\n",
       "        vertical-align: middle;\n",
       "    }\n",
       "\n",
       "    .dataframe tbody tr th {\n",
       "        vertical-align: top;\n",
       "    }\n",
       "\n",
       "    .dataframe thead th {\n",
       "        text-align: right;\n",
       "    }\n",
       "</style>\n",
       "<table border=\"1\" class=\"dataframe\">\n",
       "  <thead>\n",
       "    <tr style=\"text-align: right;\">\n",
       "      <th></th>\n",
       "      <th>text</th>\n",
       "      <th>class</th>\n",
       "      <th>ID</th>\n",
       "    </tr>\n",
       "  </thead>\n",
       "  <tbody>\n",
       "    <tr>\n",
       "      <td>0</td>\n",
       "      <td>Fun little place to stop and have lunch  There...</td>\n",
       "      <td>positive</td>\n",
       "      <td>1307144</td>\n",
       "    </tr>\n",
       "    <tr>\n",
       "      <td>1</td>\n",
       "      <td>This place was PACKED  Went for late night foo...</td>\n",
       "      <td>negative</td>\n",
       "      <td>5544361</td>\n",
       "    </tr>\n",
       "    <tr>\n",
       "      <td>2</td>\n",
       "      <td>We board the plane 30 minutes before the actua...</td>\n",
       "      <td>positive</td>\n",
       "      <td>5956200</td>\n",
       "    </tr>\n",
       "    <tr>\n",
       "      <td>3</td>\n",
       "      <td>Chaotic 4 story place  but fun for kids  The w...</td>\n",
       "      <td>positive</td>\n",
       "      <td>718388</td>\n",
       "    </tr>\n",
       "    <tr>\n",
       "      <td>4</td>\n",
       "      <td>After (intentionally) capsizing a sailboat in ...</td>\n",
       "      <td>neutral</td>\n",
       "      <td>174754</td>\n",
       "    </tr>\n",
       "  </tbody>\n",
       "</table>\n",
       "</div>"
      ],
      "text/plain": [
       "                                                text     class       ID\n",
       "0  Fun little place to stop and have lunch  There...  positive  1307144\n",
       "1  This place was PACKED  Went for late night foo...  negative  5544361\n",
       "2  We board the plane 30 minutes before the actua...  positive  5956200\n",
       "3  Chaotic 4 story place  but fun for kids  The w...  positive   718388\n",
       "4  After (intentionally) capsizing a sailboat in ...   neutral   174754"
      ]
     },
     "execution_count": 3,
     "metadata": {},
     "output_type": "execute_result"
    }
   ],
   "source": [
    "df.head()"
   ]
  },
  {
   "cell_type": "code",
   "execution_count": 4,
   "metadata": {},
   "outputs": [
    {
     "data": {
      "text/html": [
       "<div>\n",
       "<style scoped>\n",
       "    .dataframe tbody tr th:only-of-type {\n",
       "        vertical-align: middle;\n",
       "    }\n",
       "\n",
       "    .dataframe tbody tr th {\n",
       "        vertical-align: top;\n",
       "    }\n",
       "\n",
       "    .dataframe thead th {\n",
       "        text-align: right;\n",
       "    }\n",
       "</style>\n",
       "<table border=\"1\" class=\"dataframe\">\n",
       "  <thead>\n",
       "    <tr style=\"text-align: right;\">\n",
       "      <th></th>\n",
       "      <th>stopwords</th>\n",
       "    </tr>\n",
       "  </thead>\n",
       "  <tbody>\n",
       "    <tr>\n",
       "      <td>0</td>\n",
       "      <td>a</td>\n",
       "    </tr>\n",
       "    <tr>\n",
       "      <td>1</td>\n",
       "      <td>about</td>\n",
       "    </tr>\n",
       "    <tr>\n",
       "      <td>2</td>\n",
       "      <td>above</td>\n",
       "    </tr>\n",
       "    <tr>\n",
       "      <td>3</td>\n",
       "      <td>across</td>\n",
       "    </tr>\n",
       "    <tr>\n",
       "      <td>4</td>\n",
       "      <td>after</td>\n",
       "    </tr>\n",
       "  </tbody>\n",
       "</table>\n",
       "</div>"
      ],
      "text/plain": [
       "  stopwords\n",
       "0         a\n",
       "1     about\n",
       "2     above\n",
       "3    across\n",
       "4     after"
      ]
     },
     "execution_count": 4,
     "metadata": {},
     "output_type": "execute_result"
    }
   ],
   "source": [
    "sw.head()"
   ]
  },
  {
   "cell_type": "code",
   "execution_count": 5,
   "metadata": {
    "scrolled": true
   },
   "outputs": [],
   "source": [
    "    # adding more stops\n",
    "stop_list = []\n",
    "for stopword in sw['stopwords']:\n",
    "\tstop_list.append(stopword)\n",
    "numbers = ['0', '1', '2', '3', '4', '5', '6', '7', '8', '9']\n",
    "\n",
    "more_stop = ['']\n",
    "stop_list = stop_list + numbers + more_stop"
   ]
  },
  {
   "cell_type": "code",
   "execution_count": 6,
   "metadata": {},
   "outputs": [],
   "source": [
    "def remove_stopwords(tokens,stop_list):\n",
    "    new_tokens = []\n",
    "    for i in range(len(tokens)):\n",
    "        if tokens[i].lower() not in stop_list:\n",
    "            new_tokens.append(tokens[i].lower())\n",
    "    return new_tokens\n",
    "\n",
    "def preprocess(sentence):\n",
    "    regex = \"[/\\$()\\[\\]!?%&*:.=\\^,\\+\\s\\t\\n#]\"\n",
    "    tokens = re.split(regex, sentence)\n",
    "    \n",
    "    new_tokens = remove_stopwords(tokens,stop_list)\n",
    "    return new_tokens"
   ]
  },
  {
   "cell_type": "code",
   "execution_count": 7,
   "metadata": {},
   "outputs": [
    {
     "name": "stderr",
     "output_type": "stream",
     "text": [
      "/opt/anaconda3/lib/python3.7/site-packages/ipykernel_launcher.py:3: SettingWithCopyWarning: \n",
      "A value is trying to be set on a copy of a slice from a DataFrame\n",
      "\n",
      "See the caveats in the documentation: http://pandas.pydata.org/pandas-docs/stable/user_guide/indexing.html#returning-a-view-versus-a-copy\n",
      "  This is separate from the ipykernel package so we can avoid doing imports until\n"
     ]
    }
   ],
   "source": [
    "    # preprocess the df\n",
    "for i in range(len(df)):\n",
    "\tdf['text'][i] = preprocess(df['text'][i])"
   ]
  },
  {
   "cell_type": "code",
   "execution_count": 8,
   "metadata": {},
   "outputs": [
    {
     "data": {
      "text/html": [
       "<div>\n",
       "<style scoped>\n",
       "    .dataframe tbody tr th:only-of-type {\n",
       "        vertical-align: middle;\n",
       "    }\n",
       "\n",
       "    .dataframe tbody tr th {\n",
       "        vertical-align: top;\n",
       "    }\n",
       "\n",
       "    .dataframe thead th {\n",
       "        text-align: right;\n",
       "    }\n",
       "</style>\n",
       "<table border=\"1\" class=\"dataframe\">\n",
       "  <thead>\n",
       "    <tr style=\"text-align: right;\">\n",
       "      <th></th>\n",
       "      <th>text</th>\n",
       "      <th>class</th>\n",
       "      <th>ID</th>\n",
       "    </tr>\n",
       "  </thead>\n",
       "  <tbody>\n",
       "    <tr>\n",
       "      <td>0</td>\n",
       "      <td>[fun, little, place, stop, lunch, plenty, park...</td>\n",
       "      <td>positive</td>\n",
       "      <td>1307144</td>\n",
       "    </tr>\n",
       "    <tr>\n",
       "      <td>1</td>\n",
       "      <td>[place, packed, went, late, night, food, serve...</td>\n",
       "      <td>negative</td>\n",
       "      <td>5544361</td>\n",
       "    </tr>\n",
       "    <tr>\n",
       "      <td>2</td>\n",
       "      <td>[board, plane, 30, minutes, actual, flight, ma...</td>\n",
       "      <td>positive</td>\n",
       "      <td>5956200</td>\n",
       "    </tr>\n",
       "    <tr>\n",
       "      <td>3</td>\n",
       "      <td>[chaotic, story, place, fun, kids, white, choc...</td>\n",
       "      <td>positive</td>\n",
       "      <td>718388</td>\n",
       "    </tr>\n",
       "    <tr>\n",
       "      <td>4</td>\n",
       "      <td>[intentionally, capsizing, sailboat, ttl, spen...</td>\n",
       "      <td>neutral</td>\n",
       "      <td>174754</td>\n",
       "    </tr>\n",
       "  </tbody>\n",
       "</table>\n",
       "</div>"
      ],
      "text/plain": [
       "                                                text     class       ID\n",
       "0  [fun, little, place, stop, lunch, plenty, park...  positive  1307144\n",
       "1  [place, packed, went, late, night, food, serve...  negative  5544361\n",
       "2  [board, plane, 30, minutes, actual, flight, ma...  positive  5956200\n",
       "3  [chaotic, story, place, fun, kids, white, choc...  positive   718388\n",
       "4  [intentionally, capsizing, sailboat, ttl, spen...   neutral   174754"
      ]
     },
     "execution_count": 8,
     "metadata": {},
     "output_type": "execute_result"
    }
   ],
   "source": [
    "df.head() # check"
   ]
  },
  {
   "cell_type": "code",
   "execution_count": 10,
   "metadata": {},
   "outputs": [],
   "source": [
    "    # return a dictionary: (word, count)\n",
    "def unique_count(texts):\n",
    "\tcounts = dict()\n",
    "\tfor reviews in texts:\n",
    "\t\tfor token in reviews:\n",
    "\t\t\tif token in counts:\n",
    "\t\t\t\tcounts[token] = counts[token] + 1\n",
    "\t\t\telse:\n",
    "\t\t\t\tcounts[token] = 1\n",
    "\treturn counts\n",
    "\n",
    "    # How many unique words are there?\n",
    "token_counts = dict()\n",
    "token_counts = unique_count(df['text']) # dictionary\n",
    "\n",
    "    # put them in a list and sort\n",
    "sorted_token_counts = sorted(token_counts.items(), key = lambda tc:(tc[1], tc[0])) # becomes a list\n",
    "unique_count = len(sorted_token_counts)"
   ]
  },
  {
   "cell_type": "code",
   "execution_count": 12,
   "metadata": {},
   "outputs": [
    {
     "name": "stdout",
     "output_type": "stream",
     "text": [
      "Most-frequent 10:\n",
      "('best', 8597)\n",
      "('really', 10400)\n",
      "('just', 13089)\n",
      "('like', 13245)\n",
      "('time', 14129)\n",
      "('service', 17711)\n",
      "('good', 22729)\n",
      "('great', 22949)\n",
      "('place', 23284)\n",
      "('food', 23921)\n"
     ]
    }
   ],
   "source": [
    "    # get the most frequent\n",
    "top_tokens = []\n",
    "top_counts = []\n",
    "# print(\"Least-frequent 10:\")\n",
    "# for i in range(10):\n",
    "#     print(token_counts[i])\n",
    "print(\"Most-frequent 10:\")\n",
    "for j in range(unique_count-10,unique_count):\n",
    "\tprint(sorted_token_counts[j])\n",
    "\ttop_tokens.append(sorted_token_counts[j][0])\n",
    "\ttop_counts.append(sorted_token_counts[j][1])"
   ]
  },
  {
   "cell_type": "code",
   "execution_count": 13,
   "metadata": {},
   "outputs": [
    {
     "data": {
      "image/png": "[encoded data removed]",
      "text/plain": [
       "<Figure size 720x360 with 1 Axes>"
      ]
     },
     "metadata": {
      "needs_background": "light"
     },
     "output_type": "display_data"
    }
   ],
   "source": [
    "y_pos = np.arange(10)\n",
    "\n",
    "plt.figure(figsize=(10,5))\n",
    "\n",
    "plt.bar(y_pos, top_counts, align='center', alpha=1)\n",
    "plt.xticks(y_pos, top_tokens, rotation=30)\n",
    "plt.ylabel('Number of Words')\n",
    "plt.title('Top 10 Most Frequent Words')\n",
    "\n",
    "for i in range(10):\n",
    "    plt.text(x = i-0.275 , y = top_counts[i]+250, s = top_counts[i], size = 10)\n",
    "\n",
    "plt.show()"
   ]
  },
  {
   "cell_type": "code",
   "execution_count": 14,
   "metadata": {},
   "outputs": [
    {
     "data": {
      "text/html": [
       "<div>\n",
       "<style scoped>\n",
       "    .dataframe tbody tr th:only-of-type {\n",
       "        vertical-align: middle;\n",
       "    }\n",
       "\n",
       "    .dataframe tbody tr th {\n",
       "        vertical-align: top;\n",
       "    }\n",
       "\n",
       "    .dataframe thead th {\n",
       "        text-align: right;\n",
       "    }\n",
       "</style>\n",
       "<table border=\"1\" class=\"dataframe\">\n",
       "  <thead>\n",
       "    <tr style=\"text-align: right;\">\n",
       "      <th></th>\n",
       "      <th>token</th>\n",
       "      <th>count</th>\n",
       "    </tr>\n",
       "  </thead>\n",
       "  <tbody>\n",
       "    <tr>\n",
       "      <td>0</td>\n",
       "      <td>0000</td>\n",
       "      <td>1</td>\n",
       "    </tr>\n",
       "    <tr>\n",
       "      <td>1</td>\n",
       "      <td>0000000</td>\n",
       "      <td>1</td>\n",
       "    </tr>\n",
       "    <tr>\n",
       "      <td>2</td>\n",
       "      <td>000km</td>\n",
       "      <td>1</td>\n",
       "    </tr>\n",
       "    <tr>\n",
       "      <td>3</td>\n",
       "      <td>000miles</td>\n",
       "      <td>1</td>\n",
       "    </tr>\n",
       "    <tr>\n",
       "      <td>4</td>\n",
       "      <td>000s</td>\n",
       "      <td>1</td>\n",
       "    </tr>\n",
       "  </tbody>\n",
       "</table>\n",
       "</div>"
      ],
      "text/plain": [
       "      token  count\n",
       "0      0000      1\n",
       "1   0000000      1\n",
       "2     000km      1\n",
       "3  000miles      1\n",
       "4      000s      1"
      ]
     },
     "execution_count": 14,
     "metadata": {},
     "output_type": "execute_result"
    }
   ],
   "source": [
    "nf = pd.DataFrame(sorted_token_counts)\n",
    "nf.columns = ['token','count']\n",
    "\n",
    "nf.to_csv(\"preprocessed2.csv\",index=False)"
   ]
  },
  {
   "cell_type": "code",
   "execution_count": 16,
   "metadata": {},
   "outputs": [
    {
     "data": {
      "text/html": [
       "<div>\n",
       "<style scoped>\n",
       "    .dataframe tbody tr th:only-of-type {\n",
       "        vertical-align: middle;\n",
       "    }\n",
       "\n",
       "    .dataframe tbody tr th {\n",
       "        vertical-align: top;\n",
       "    }\n",
       "\n",
       "    .dataframe thead th {\n",
       "        text-align: right;\n",
       "    }\n",
       "</style>\n",
       "<table border=\"1\" class=\"dataframe\">\n",
       "  <thead>\n",
       "    <tr style=\"text-align: right;\">\n",
       "      <th></th>\n",
       "      <th>text</th>\n",
       "      <th>class</th>\n",
       "      <th>ID</th>\n",
       "    </tr>\n",
       "  </thead>\n",
       "  <tbody>\n",
       "    <tr>\n",
       "      <td>0</td>\n",
       "      <td>[fun, little, place, stop, lunch, plenty, park...</td>\n",
       "      <td>positive</td>\n",
       "      <td>1307144</td>\n",
       "    </tr>\n",
       "    <tr>\n",
       "      <td>1</td>\n",
       "      <td>[place, packed, went, late, night, food, serve...</td>\n",
       "      <td>negative</td>\n",
       "      <td>5544361</td>\n",
       "    </tr>\n",
       "    <tr>\n",
       "      <td>2</td>\n",
       "      <td>[board, plane, 30, minutes, actual, flight, ma...</td>\n",
       "      <td>positive</td>\n",
       "      <td>5956200</td>\n",
       "    </tr>\n",
       "    <tr>\n",
       "      <td>3</td>\n",
       "      <td>[chaotic, story, place, fun, kids, white, choc...</td>\n",
       "      <td>positive</td>\n",
       "      <td>718388</td>\n",
       "    </tr>\n",
       "    <tr>\n",
       "      <td>4</td>\n",
       "      <td>[intentionally, capsizing, sailboat, ttl, spen...</td>\n",
       "      <td>neutral</td>\n",
       "      <td>174754</td>\n",
       "    </tr>\n",
       "  </tbody>\n",
       "</table>\n",
       "</div>"
      ],
      "text/plain": [
       "                                                text     class       ID\n",
       "0  [fun, little, place, stop, lunch, plenty, park...  positive  1307144\n",
       "1  [place, packed, went, late, night, food, serve...  negative  5544361\n",
       "2  [board, plane, 30, minutes, actual, flight, ma...  positive  5956200\n",
       "3  [chaotic, story, place, fun, kids, white, choc...  positive   718388\n",
       "4  [intentionally, capsizing, sailboat, ttl, spen...   neutral   174754"
      ]
     },
     "execution_count": 16,
     "metadata": {},
     "output_type": "execute_result"
    }
   ],
   "source": [
    "df.head()"
   ]
  },
  {
   "cell_type": "code",
   "execution_count": 20,
   "metadata": {},
   "outputs": [
    {
     "name": "stderr",
     "output_type": "stream",
     "text": [
      "/opt/anaconda3/lib/python3.7/site-packages/ipykernel_launcher.py:6: SettingWithCopyWarning: \n",
      "A value is trying to be set on a copy of a slice from a DataFrame\n",
      "\n",
      "See the caveats in the documentation: http://pandas.pydata.org/pandas-docs/stable/user_guide/indexing.html#returning-a-view-versus-a-copy\n",
      "  \n"
     ]
    }
   ],
   "source": [
    "put_together = df['text']\n",
    "for i in range(len(put_together)):\n",
    "\tstr = \"\"\n",
    "\tfor word in put_together[i]:\n",
    "\t\tstr = str + word + \" \"\n",
    "\tput_together[i] = str"
   ]
  },
  {
   "cell_type": "code",
   "execution_count": 21,
   "metadata": {},
   "outputs": [
    {
     "data": {
      "text/plain": [
       "0    fun little place stop lunch plenty parking tab...\n",
       "1    place packed went late night food serve late a...\n",
       "2    board plane 30 minutes actual flight make sure...\n",
       "3    chaotic story place fun kids white chocolate m...\n",
       "4    intentionally capsizing sailboat ttl spent goo...\n",
       "Name: text, dtype: object"
      ]
     },
     "execution_count": 21,
     "metadata": {},
     "output_type": "execute_result"
    }
   ],
   "source": [
    "put_together.head()"
   ]
  },
  {
   "cell_type": "code",
   "execution_count": 24,
   "metadata": {},
   "outputs": [
    {
     "name": "stderr",
     "output_type": "stream",
     "text": [
      "/opt/anaconda3/lib/python3.7/site-packages/ipykernel_launcher.py:1: FutureWarning: The signature of `Series.to_csv` was aligned to that of `DataFrame.to_csv`, and argument 'header' will change its default value from False to True: please pass an explicit value to suppress this warning.\n",
      "  \"\"\"Entry point for launching an IPython kernel.\n"
     ]
    }
   ],
   "source": [
    "put_together.to_csv(\"for_stemming.csv\",index=False)"
   ]
  },
  {
   "cell_type": "code",
   "execution_count": 2,
   "metadata": {},
   "outputs": [],
   "source": [
    "# do the Porter stem"
   ]
  },
  {
   "cell_type": "code",
   "execution_count": 31,
   "metadata": {},
   "outputs": [],
   "source": [
    "train_stemmed = pd.read_csv(\"train_stemmed.csv\")"
   ]
  },
  {
   "cell_type": "code",
   "execution_count": 32,
   "metadata": {},
   "outputs": [
    {
     "data": {
      "text/html": [
       "<div>\n",
       "<style scoped>\n",
       "    .dataframe tbody tr th:only-of-type {\n",
       "        vertical-align: middle;\n",
       "    }\n",
       "\n",
       "    .dataframe tbody tr th {\n",
       "        vertical-align: top;\n",
       "    }\n",
       "\n",
       "    .dataframe thead th {\n",
       "        text-align: right;\n",
       "    }\n",
       "</style>\n",
       "<table border=\"1\" class=\"dataframe\">\n",
       "  <thead>\n",
       "    <tr style=\"text-align: right;\">\n",
       "      <th></th>\n",
       "      <th>review</th>\n",
       "    </tr>\n",
       "  </thead>\n",
       "  <tbody>\n",
       "    <tr>\n",
       "      <td>0</td>\n",
       "      <td>fun littl place stop lunch plenti park tabl pa...</td>\n",
       "    </tr>\n",
       "    <tr>\n",
       "      <td>1</td>\n",
       "      <td>place pack went late night food serv late awes...</td>\n",
       "    </tr>\n",
       "    <tr>\n",
       "      <td>2</td>\n",
       "      <td>board plane 30 minut actual flight make sure l...</td>\n",
       "    </tr>\n",
       "    <tr>\n",
       "      <td>3</td>\n",
       "      <td>chaotic stori place fun kid white chocol m ms ...</td>\n",
       "    </tr>\n",
       "    <tr>\n",
       "      <td>4</td>\n",
       "      <td>intention capsiz sailboat ttl spent good 15 mi...</td>\n",
       "    </tr>\n",
       "  </tbody>\n",
       "</table>\n",
       "</div>"
      ],
      "text/plain": [
       "                                              review\n",
       "0  fun littl place stop lunch plenti park tabl pa...\n",
       "1  place pack went late night food serv late awes...\n",
       "2  board plane 30 minut actual flight make sure l...\n",
       "3  chaotic stori place fun kid white chocol m ms ...\n",
       "4  intention capsiz sailboat ttl spent good 15 mi..."
      ]
     },
     "execution_count": 32,
     "metadata": {},
     "output_type": "execute_result"
    }
   ],
   "source": [
    "train_stemmed.head()"
   ]
  },
  {
   "cell_type": "code",
   "execution_count": 15,
   "metadata": {},
   "outputs": [],
   "source": [
    "###############\n",
    "# For Test Preprocessing\n",
    "###############"
   ]
  },
  {
   "cell_type": "code",
   "execution_count": 16,
   "metadata": {},
   "outputs": [],
   "source": [
    "df = pd.read_csv(\"data/test3.csv\")\n",
    "sw = pd.read_csv(\"stopwords.csv\")"
   ]
  },
  {
   "cell_type": "code",
   "execution_count": 17,
   "metadata": {},
   "outputs": [],
   "source": [
    "    # adding more stops\n",
    "stop_list = []\n",
    "for stopword in sw['stopwords']:\n",
    "\tstop_list.append(stopword)\n",
    "numbers = ['0', '1', '2', '3', '4', '5', '6', '7', '8', '9']\n",
    "\n",
    "more_stop = ['']\n",
    "stop_list = stop_list + numbers + more_stop"
   ]
  },
  {
   "cell_type": "code",
   "execution_count": 18,
   "metadata": {},
   "outputs": [],
   "source": [
    "def remove_stopwords(tokens,stop_list):\n",
    "    new_tokens = []\n",
    "    for i in range(len(tokens)):\n",
    "        if tokens[i].lower() not in stop_list:\n",
    "            new_tokens.append(tokens[i].lower())\n",
    "    return new_tokens\n",
    "\n",
    "def preprocess(sentence):\n",
    "    regex = \"[/\\$()\\[\\]!?%&*:.=\\^,\\+\\s\\t\\n#]\"\n",
    "    tokens = re.split(regex, sentence)\n",
    "    \n",
    "    new_tokens = remove_stopwords(tokens,stop_list)\n",
    "    return new_tokens"
   ]
  },
  {
   "cell_type": "code",
   "execution_count": 19,
   "metadata": {},
   "outputs": [
    {
     "name": "stderr",
     "output_type": "stream",
     "text": [
      "/opt/anaconda3/lib/python3.7/site-packages/ipykernel_launcher.py:3: SettingWithCopyWarning: \n",
      "A value is trying to be set on a copy of a slice from a DataFrame\n",
      "\n",
      "See the caveats in the documentation: http://pandas.pydata.org/pandas-docs/stable/user_guide/indexing.html#returning-a-view-versus-a-copy\n",
      "  This is separate from the ipykernel package so we can avoid doing imports until\n"
     ]
    }
   ],
   "source": [
    "    # preprocess the df\n",
    "for i in range(len(df)):\n",
    "\tdf['text'][i] = preprocess(df['text'][i])"
   ]
  },
  {
   "cell_type": "code",
   "execution_count": 20,
   "metadata": {},
   "outputs": [],
   "source": [
    "    # return a dictionary: (word, count)\n",
    "def unique_count(texts):\n",
    "\tcounts = dict()\n",
    "\tfor reviews in texts:\n",
    "\t\tfor token in reviews:\n",
    "\t\t\tif token in counts:\n",
    "\t\t\t\tcounts[token] = counts[token] + 1\n",
    "\t\t\telse:\n",
    "\t\t\t\tcounts[token] = 1\n",
    "\treturn counts\n",
    "\n",
    "    # How many unique words are there?\n",
    "token_counts = dict()\n",
    "token_counts = unique_count(df['text']) # dictionary\n",
    "\n",
    "    # put them in a list and sort\n",
    "sorted_token_counts = sorted(token_counts.items(), key = lambda tc:(tc[1], tc[0])) # becomes a list\n",
    "unique_count = len(sorted_token_counts)"
   ]
  },
  {
   "cell_type": "code",
   "execution_count": 21,
   "metadata": {},
   "outputs": [
    {
     "name": "stdout",
     "output_type": "stream",
     "text": [
      "Most-frequent 10:\n",
      "('best', 2129)\n",
      "('really', 2508)\n",
      "('like', 3241)\n",
      "('just', 3253)\n",
      "('time', 3530)\n",
      "('service', 4412)\n",
      "('good', 5694)\n",
      "('great', 5849)\n",
      "('place', 5959)\n",
      "('food', 6162)\n"
     ]
    }
   ],
   "source": [
    "    # get the most frequent\n",
    "top_tokens = []\n",
    "top_counts = []\n",
    "# print(\"Least-frequent 10:\")\n",
    "# for i in range(10):\n",
    "#     print(token_counts[i])\n",
    "print(\"Most-frequent 10:\")\n",
    "for j in range(unique_count-10,unique_count):\n",
    "\tprint(sorted_token_counts[j])\n",
    "\ttop_tokens.append(sorted_token_counts[j][0])\n",
    "\ttop_counts.append(sorted_token_counts[j][1])"
   ]
  },
  {
   "cell_type": "code",
   "execution_count": 23,
   "metadata": {},
   "outputs": [
    {
     "data": {
      "image/png": "[encoded data removed]",
      "text/plain": [
       "<Figure size 720x360 with 1 Axes>"
      ]
     },
     "metadata": {
      "needs_background": "light"
     },
     "output_type": "display_data"
    }
   ],
   "source": [
    "y_pos = np.arange(10)\n",
    "\n",
    "plt.figure(figsize=(10,5))\n",
    "\n",
    "plt.bar(y_pos, top_counts, align='center', alpha=1)\n",
    "plt.xticks(y_pos, top_tokens, rotation=30)\n",
    "plt.ylabel('Number of Words')\n",
    "plt.title('Top 10 Most Frequent Words')\n",
    "\n",
    "for i in range(10):\n",
    "    plt.text(x = i-0.275 , y = top_counts[i]+100, s = top_counts[i], size = 10)\n",
    "\n",
    "plt.show()"
   ]
  },
  {
   "cell_type": "code",
   "execution_count": 24,
   "metadata": {},
   "outputs": [],
   "source": [
    "nf = pd.DataFrame(sorted_token_counts)\n",
    "nf.columns = ['token','count']\n",
    "nf.to_csv(\"preprocessed3.csv\",index=False)"
   ]
  },
  {
   "cell_type": "code",
   "execution_count": 26,
   "metadata": {},
   "outputs": [
    {
     "name": "stderr",
     "output_type": "stream",
     "text": [
      "/opt/anaconda3/lib/python3.7/site-packages/ipykernel_launcher.py:6: SettingWithCopyWarning: \n",
      "A value is trying to be set on a copy of a slice from a DataFrame\n",
      "\n",
      "See the caveats in the documentation: http://pandas.pydata.org/pandas-docs/stable/user_guide/indexing.html#returning-a-view-versus-a-copy\n",
      "  \n"
     ]
    }
   ],
   "source": [
    "put_together = df['text']\n",
    "for i in range(len(put_together)):\n",
    "\tstr = \"\"\n",
    "\tfor word in put_together[i]:\n",
    "\t\tstr = str + word + \" \"\n",
    "\tput_together[i] = str"
   ]
  },
  {
   "cell_type": "code",
   "execution_count": 27,
   "metadata": {},
   "outputs": [
    {
     "name": "stderr",
     "output_type": "stream",
     "text": [
      "/opt/anaconda3/lib/python3.7/site-packages/ipykernel_launcher.py:1: FutureWarning: The signature of `Series.to_csv` was aligned to that of `DataFrame.to_csv`, and argument 'header' will change its default value from False to True: please pass an explicit value to suppress this warning.\n",
      "  \"\"\"Entry point for launching an IPython kernel.\n"
     ]
    }
   ],
   "source": [
    "put_together.to_csv(\"for_stemming_test.csv\",index=False)"
   ]
  },
  {
   "cell_type": "code",
   "execution_count": 1,
   "metadata": {},
   "outputs": [],
   "source": [
    "# porter stem"
   ]
  },
  {
   "cell_type": "code",
   "execution_count": 29,
   "metadata": {},
   "outputs": [],
   "source": [
    "test_stemmed = pd.read_csv(\"test_stemmed.csv\")"
   ]
  },
  {
   "cell_type": "code",
   "execution_count": 33,
   "metadata": {},
   "outputs": [],
   "source": [
    "#############\n",
    "# combine"
   ]
  },
  {
   "cell_type": "code",
   "execution_count": 34,
   "metadata": {},
   "outputs": [],
   "source": [
    "train_preprocessed = pd.read_csv(\"train_preprocessed.csv\")\n",
    "test_preprocessed = pd.read_csv(\"test_preprocessed.csv\")"
   ]
  },
  {
   "cell_type": "code",
   "execution_count": 36,
   "metadata": {},
   "outputs": [],
   "source": [
    "combined_preprocessed = train_preprocessed.append(test_preprocessed)"
   ]
  },
  {
   "cell_type": "code",
   "execution_count": 37,
   "metadata": {},
   "outputs": [],
   "source": [
    "combined_preprocessed.to_csv(\"combined_preprocessed.csv\",index=False)"
   ]
  },
  {
   "cell_type": "code",
   "execution_count": 2,
   "metadata": {},
   "outputs": [],
   "source": [
    "#####################################\n",
    "# Did String2WordVector in Weka\n",
    "# Split into train, validation and test sets\n",
    "#####################################"
   ]
  },
  {
   "cell_type": "code",
   "execution_count": 96,
   "metadata": {},
   "outputs": [],
   "source": [
    "s2wv = pd.read_csv(\"combined_preprocessed_s2wv_2.csv\")"
   ]
  },
  {
   "cell_type": "code",
   "execution_count": 97,
   "metadata": {},
   "outputs": [],
   "source": [
    "training_dataset = s2wv.head(56000)\n",
    "testing_dataset = s2wv.tail(14000)"
   ]
  },
  {
   "cell_type": "code",
   "execution_count": 98,
   "metadata": {},
   "outputs": [
    {
     "name": "stderr",
     "output_type": "stream",
     "text": [
      "/opt/anaconda3/lib/python3.7/site-packages/ipykernel_launcher.py:3: SettingWithCopyWarning: \n",
      "A value is trying to be set on a copy of a slice from a DataFrame.\n",
      "Try using .loc[row_indexer,col_indexer] = value instead\n",
      "\n",
      "See the caveats in the documentation: http://pandas.pydata.org/pandas-docs/stable/user_guide/indexing.html#returning-a-view-versus-a-copy\n",
      "  This is separate from the ipykernel package so we can avoid doing imports until\n",
      "/opt/anaconda3/lib/python3.7/site-packages/ipykernel_launcher.py:5: SettingWithCopyWarning: \n",
      "A value is trying to be set on a copy of a slice from a DataFrame.\n",
      "Try using .loc[row_indexer,col_indexer] = value instead\n",
      "\n",
      "See the caveats in the documentation: http://pandas.pydata.org/pandas-docs/stable/user_guide/indexing.html#returning-a-view-versus-a-copy\n",
      "  \"\"\"\n",
      "/opt/anaconda3/lib/python3.7/site-packages/ipykernel_launcher.py:6: SettingWithCopyWarning: \n",
      "A value is trying to be set on a copy of a slice from a DataFrame.\n",
      "Try using .loc[row_indexer,col_indexer] = value instead\n",
      "\n",
      "See the caveats in the documentation: http://pandas.pydata.org/pandas-docs/stable/user_guide/indexing.html#returning-a-view-versus-a-copy\n",
      "  \n",
      "/opt/anaconda3/lib/python3.7/site-packages/ipykernel_launcher.py:7: SettingWithCopyWarning: \n",
      "A value is trying to be set on a copy of a slice from a DataFrame.\n",
      "Try using .loc[row_indexer,col_indexer] = value instead\n",
      "\n",
      "See the caveats in the documentation: http://pandas.pydata.org/pandas-docs/stable/user_guide/indexing.html#returning-a-view-versus-a-copy\n",
      "  import sys\n"
     ]
    }
   ],
   "source": [
    "df = pd.read_csv(\"data/train3.csv\")\n",
    "training_dataset = pd.concat([training_dataset, df['class']], axis=1)\n",
    "testing_dataset['class'] = np.random.randint(0,3,size=(len(testing_dataset),1))\n",
    "\n",
    "testing_dataset['class'] = testing_dataset['class'].replace(0, 'negative')\n",
    "testing_dataset['class'] = testing_dataset['class'].replace(1, 'neutral')\n",
    "testing_dataset['class'] = testing_dataset['class'].replace(2, 'positive')"
   ]
  },
  {
   "cell_type": "code",
   "execution_count": 99,
   "metadata": {},
   "outputs": [],
   "source": [
    "validation_dataset = training_dataset.sample(frac=0.25)\n",
    "training_dataset = training_dataset.drop(validation_dataset.index)"
   ]
  },
  {
   "cell_type": "code",
   "execution_count": 68,
   "metadata": {},
   "outputs": [
    {
     "data": {
      "text/plain": [
       "(42000, 497)"
      ]
     },
     "execution_count": 68,
     "metadata": {},
     "output_type": "execute_result"
    }
   ],
   "source": [
    "training_dataset.shape"
   ]
  },
  {
   "cell_type": "code",
   "execution_count": 69,
   "metadata": {},
   "outputs": [
    {
     "data": {
      "text/plain": [
       "(14000, 497)"
      ]
     },
     "execution_count": 69,
     "metadata": {},
     "output_type": "execute_result"
    }
   ],
   "source": [
    "validation_dataset.shape"
   ]
  },
  {
   "cell_type": "code",
   "execution_count": 70,
   "metadata": {},
   "outputs": [
    {
     "data": {
      "text/plain": [
       "(14000, 497)"
      ]
     },
     "execution_count": 70,
     "metadata": {},
     "output_type": "execute_result"
    }
   ],
   "source": [
    "testing_dataset.shape"
   ]
  },
  {
   "cell_type": "code",
   "execution_count": 103,
   "metadata": {},
   "outputs": [
    {
     "data": {
      "text/html": [
       "<div>\n",
       "<style scoped>\n",
       "    .dataframe tbody tr th:only-of-type {\n",
       "        vertical-align: middle;\n",
       "    }\n",
       "\n",
       "    .dataframe tbody tr th {\n",
       "        vertical-align: top;\n",
       "    }\n",
       "\n",
       "    .dataframe thead th {\n",
       "        text-align: right;\n",
       "    }\n",
       "</style>\n",
       "<table border=\"1\" class=\"dataframe\">\n",
       "  <thead>\n",
       "    <tr style=\"text-align: right;\">\n",
       "      <th></th>\n",
       "      <th>abl</th>\n",
       "      <th>absolut</th>\n",
       "      <th>accommod</th>\n",
       "      <th>actual</th>\n",
       "      <th>ad</th>\n",
       "      <th>add</th>\n",
       "      <th>ago</th>\n",
       "      <th>amaz</th>\n",
       "      <th>answer</th>\n",
       "      <th>appet</th>\n",
       "      <th>...</th>\n",
       "      <th>worth</th>\n",
       "      <th>wouldnt</th>\n",
       "      <th>wow</th>\n",
       "      <th>wrong</th>\n",
       "      <th>ye</th>\n",
       "      <th>year</th>\n",
       "      <th>yelp</th>\n",
       "      <th>your</th>\n",
       "      <th>yummi</th>\n",
       "      <th>class</th>\n",
       "    </tr>\n",
       "  </thead>\n",
       "  <tbody>\n",
       "    <tr>\n",
       "      <td>54724</td>\n",
       "      <td>0.0</td>\n",
       "      <td>0.0</td>\n",
       "      <td>0.0</td>\n",
       "      <td>3.578197</td>\n",
       "      <td>0.0</td>\n",
       "      <td>0.0</td>\n",
       "      <td>0.0</td>\n",
       "      <td>0.0</td>\n",
       "      <td>0.0</td>\n",
       "      <td>0.0</td>\n",
       "      <td>...</td>\n",
       "      <td>3.090211</td>\n",
       "      <td>0.0</td>\n",
       "      <td>0.0</td>\n",
       "      <td>0.0</td>\n",
       "      <td>0.0</td>\n",
       "      <td>0.0</td>\n",
       "      <td>0.0</td>\n",
       "      <td>0.0</td>\n",
       "      <td>0.0</td>\n",
       "      <td>positive</td>\n",
       "    </tr>\n",
       "    <tr>\n",
       "      <td>10771</td>\n",
       "      <td>0.0</td>\n",
       "      <td>0.0</td>\n",
       "      <td>0.0</td>\n",
       "      <td>0.000000</td>\n",
       "      <td>0.0</td>\n",
       "      <td>0.0</td>\n",
       "      <td>0.0</td>\n",
       "      <td>0.0</td>\n",
       "      <td>0.0</td>\n",
       "      <td>0.0</td>\n",
       "      <td>...</td>\n",
       "      <td>0.000000</td>\n",
       "      <td>0.0</td>\n",
       "      <td>0.0</td>\n",
       "      <td>0.0</td>\n",
       "      <td>0.0</td>\n",
       "      <td>0.0</td>\n",
       "      <td>0.0</td>\n",
       "      <td>0.0</td>\n",
       "      <td>0.0</td>\n",
       "      <td>positive</td>\n",
       "    </tr>\n",
       "    <tr>\n",
       "      <td>49623</td>\n",
       "      <td>0.0</td>\n",
       "      <td>0.0</td>\n",
       "      <td>0.0</td>\n",
       "      <td>0.000000</td>\n",
       "      <td>0.0</td>\n",
       "      <td>0.0</td>\n",
       "      <td>0.0</td>\n",
       "      <td>0.0</td>\n",
       "      <td>0.0</td>\n",
       "      <td>0.0</td>\n",
       "      <td>...</td>\n",
       "      <td>0.000000</td>\n",
       "      <td>0.0</td>\n",
       "      <td>0.0</td>\n",
       "      <td>0.0</td>\n",
       "      <td>0.0</td>\n",
       "      <td>0.0</td>\n",
       "      <td>0.0</td>\n",
       "      <td>0.0</td>\n",
       "      <td>0.0</td>\n",
       "      <td>positive</td>\n",
       "    </tr>\n",
       "    <tr>\n",
       "      <td>29110</td>\n",
       "      <td>0.0</td>\n",
       "      <td>0.0</td>\n",
       "      <td>0.0</td>\n",
       "      <td>0.000000</td>\n",
       "      <td>0.0</td>\n",
       "      <td>0.0</td>\n",
       "      <td>0.0</td>\n",
       "      <td>0.0</td>\n",
       "      <td>0.0</td>\n",
       "      <td>0.0</td>\n",
       "      <td>...</td>\n",
       "      <td>0.000000</td>\n",
       "      <td>0.0</td>\n",
       "      <td>0.0</td>\n",
       "      <td>0.0</td>\n",
       "      <td>0.0</td>\n",
       "      <td>0.0</td>\n",
       "      <td>0.0</td>\n",
       "      <td>0.0</td>\n",
       "      <td>0.0</td>\n",
       "      <td>negative</td>\n",
       "    </tr>\n",
       "    <tr>\n",
       "      <td>36818</td>\n",
       "      <td>0.0</td>\n",
       "      <td>0.0</td>\n",
       "      <td>0.0</td>\n",
       "      <td>0.000000</td>\n",
       "      <td>0.0</td>\n",
       "      <td>0.0</td>\n",
       "      <td>0.0</td>\n",
       "      <td>0.0</td>\n",
       "      <td>0.0</td>\n",
       "      <td>0.0</td>\n",
       "      <td>...</td>\n",
       "      <td>0.000000</td>\n",
       "      <td>0.0</td>\n",
       "      <td>0.0</td>\n",
       "      <td>0.0</td>\n",
       "      <td>0.0</td>\n",
       "      <td>0.0</td>\n",
       "      <td>0.0</td>\n",
       "      <td>0.0</td>\n",
       "      <td>0.0</td>\n",
       "      <td>positive</td>\n",
       "    </tr>\n",
       "  </tbody>\n",
       "</table>\n",
       "<p>5 rows × 497 columns</p>\n",
       "</div>"
      ],
      "text/plain": [
       "       abl  absolut  accommod    actual   ad  add  ago  amaz  answer  appet  \\\n",
       "54724  0.0      0.0       0.0  3.578197  0.0  0.0  0.0   0.0     0.0    0.0   \n",
       "10771  0.0      0.0       0.0  0.000000  0.0  0.0  0.0   0.0     0.0    0.0   \n",
       "49623  0.0      0.0       0.0  0.000000  0.0  0.0  0.0   0.0     0.0    0.0   \n",
       "29110  0.0      0.0       0.0  0.000000  0.0  0.0  0.0   0.0     0.0    0.0   \n",
       "36818  0.0      0.0       0.0  0.000000  0.0  0.0  0.0   0.0     0.0    0.0   \n",
       "\n",
       "       ...     worth  wouldnt  wow  wrong   ye  year  yelp  your  yummi  \\\n",
       "54724  ...  3.090211      0.0  0.0    0.0  0.0   0.0   0.0   0.0    0.0   \n",
       "10771  ...  0.000000      0.0  0.0    0.0  0.0   0.0   0.0   0.0    0.0   \n",
       "49623  ...  0.000000      0.0  0.0    0.0  0.0   0.0   0.0   0.0    0.0   \n",
       "29110  ...  0.000000      0.0  0.0    0.0  0.0   0.0   0.0   0.0    0.0   \n",
       "36818  ...  0.000000      0.0  0.0    0.0  0.0   0.0   0.0   0.0    0.0   \n",
       "\n",
       "          class  \n",
       "54724  positive  \n",
       "10771  positive  \n",
       "49623  positive  \n",
       "29110  negative  \n",
       "36818  positive  \n",
       "\n",
       "[5 rows x 497 columns]"
      ]
     },
     "execution_count": 103,
     "metadata": {},
     "output_type": "execute_result"
    }
   ],
   "source": [
    "validation_dataset.head()"
   ]
  },
  {
   "cell_type": "code",
   "execution_count": 105,
   "metadata": {},
   "outputs": [],
   "source": [
    "training_dataset.to_csv(\"for_model_training.csv\",index=False)\n",
    "validation_dataset.to_csv(\"for_model_validation.csv\",index=False)\n",
    "testing_dataset.to_csv(\"for_model_testing.csv\",index=False)"
   ]
  },
  {
   "cell_type": "code",
   "execution_count": 2,
   "metadata": {},
   "outputs": [],
   "source": [
    "#======="
   ]
  },
  {
   "cell_type": "code",
   "execution_count": 3,
   "metadata": {},
   "outputs": [],
   "source": [
    "trainset = pd.read_csv(\"for_model_training.csv\")\n",
    "testset = pd.read_csv(\"for_model_testing.csv\")"
   ]
  },
  {
   "cell_type": "code",
   "execution_count": 5,
   "metadata": {},
   "outputs": [],
   "source": [
    "train_col = list(trainset.columns)\n",
    "test_col = list(testset.columns)"
   ]
  },
  {
   "cell_type": "code",
   "execution_count": 6,
   "metadata": {},
   "outputs": [
    {
     "data": {
      "text/plain": [
       "set()"
      ]
     },
     "execution_count": 6,
     "metadata": {},
     "output_type": "execute_result"
    }
   ],
   "source": [
    "set(train_col) - set(test_col)"
   ]
  },
  {
   "cell_type": "code",
   "execution_count": 7,
   "metadata": {},
   "outputs": [
    {
     "data": {
      "text/plain": [
       "set()"
      ]
     },
     "execution_count": 7,
     "metadata": {},
     "output_type": "execute_result"
    }
   ],
   "source": [
    "set(test_col) - set(train_col)"
   ]
  },
  {
   "cell_type": "code",
   "execution_count": 9,
   "metadata": {},
   "outputs": [],
   "source": [
    "output_file = open(\"attribute_list.txt\", \"w\")\n",
    "for attribute in train_col:\n",
    "\toutput = \"@attribute \" + attribute + \" numeric\\n\"\n",
    "\toutput_file.write(output)\n",
    "output_file.close()"
   ]
  },
  {
   "cell_type": "code",
   "execution_count": 10,
   "metadata": {},
   "outputs": [],
   "source": [
    "#========="
   ]
  },
  {
   "cell_type": "code",
   "execution_count": 15,
   "metadata": {},
   "outputs": [],
   "source": [
    "id_tests = pd.read_csv(\"data/test3.csv\")"
   ]
  },
  {
   "cell_type": "code",
   "execution_count": 17,
   "metadata": {},
   "outputs": [],
   "source": [
    "id_tests = id_tests.drop(['text'], axis=1)"
   ]
  },
  {
   "cell_type": "code",
   "execution_count": 18,
   "metadata": {},
   "outputs": [
    {
     "data": {
      "text/html": [
       "<div>\n",
       "<style scoped>\n",
       "    .dataframe tbody tr th:only-of-type {\n",
       "        vertical-align: middle;\n",
       "    }\n",
       "\n",
       "    .dataframe tbody tr th {\n",
       "        vertical-align: top;\n",
       "    }\n",
       "\n",
       "    .dataframe thead th {\n",
       "        text-align: right;\n",
       "    }\n",
       "</style>\n",
       "<table border=\"1\" class=\"dataframe\">\n",
       "  <thead>\n",
       "    <tr style=\"text-align: right;\">\n",
       "      <th></th>\n",
       "      <th>ID</th>\n",
       "    </tr>\n",
       "  </thead>\n",
       "  <tbody>\n",
       "    <tr>\n",
       "      <td>0</td>\n",
       "      <td>178</td>\n",
       "    </tr>\n",
       "    <tr>\n",
       "      <td>1</td>\n",
       "      <td>344</td>\n",
       "    </tr>\n",
       "    <tr>\n",
       "      <td>2</td>\n",
       "      <td>2324</td>\n",
       "    </tr>\n",
       "    <tr>\n",
       "      <td>3</td>\n",
       "      <td>3217</td>\n",
       "    </tr>\n",
       "    <tr>\n",
       "      <td>4</td>\n",
       "      <td>3705</td>\n",
       "    </tr>\n",
       "  </tbody>\n",
       "</table>\n",
       "</div>"
      ],
      "text/plain": [
       "     ID\n",
       "0   178\n",
       "1   344\n",
       "2  2324\n",
       "3  3217\n",
       "4  3705"
      ]
     },
     "execution_count": 18,
     "metadata": {},
     "output_type": "execute_result"
    }
   ],
   "source": [
    "id_tests.head()"
   ]
  },
  {
   "cell_type": "code",
   "execution_count": 19,
   "metadata": {},
   "outputs": [],
   "source": [
    "predictions = pd.read_csv(\"prediction.csv\")"
   ]
  },
  {
   "cell_type": "code",
   "execution_count": 20,
   "metadata": {},
   "outputs": [
    {
     "data": {
      "text/html": [
       "<div>\n",
       "<style scoped>\n",
       "    .dataframe tbody tr th:only-of-type {\n",
       "        vertical-align: middle;\n",
       "    }\n",
       "\n",
       "    .dataframe tbody tr th {\n",
       "        vertical-align: top;\n",
       "    }\n",
       "\n",
       "    .dataframe thead th {\n",
       "        text-align: right;\n",
       "    }\n",
       "</style>\n",
       "<table border=\"1\" class=\"dataframe\">\n",
       "  <thead>\n",
       "    <tr style=\"text-align: right;\">\n",
       "      <th></th>\n",
       "      <th>CLASS</th>\n",
       "    </tr>\n",
       "  </thead>\n",
       "  <tbody>\n",
       "    <tr>\n",
       "      <td>0</td>\n",
       "      <td>positive</td>\n",
       "    </tr>\n",
       "    <tr>\n",
       "      <td>1</td>\n",
       "      <td>negative</td>\n",
       "    </tr>\n",
       "    <tr>\n",
       "      <td>2</td>\n",
       "      <td>negative</td>\n",
       "    </tr>\n",
       "    <tr>\n",
       "      <td>3</td>\n",
       "      <td>positive</td>\n",
       "    </tr>\n",
       "    <tr>\n",
       "      <td>4</td>\n",
       "      <td>positive</td>\n",
       "    </tr>\n",
       "  </tbody>\n",
       "</table>\n",
       "</div>"
      ],
      "text/plain": [
       "      CLASS\n",
       "0  positive\n",
       "1  negative\n",
       "2  negative\n",
       "3  positive\n",
       "4  positive"
      ]
     },
     "execution_count": 20,
     "metadata": {},
     "output_type": "execute_result"
    }
   ],
   "source": [
    "predictions.head()"
   ]
  },
  {
   "cell_type": "code",
   "execution_count": 21,
   "metadata": {},
   "outputs": [],
   "source": [
    "id_predictions = pd.concat([id_tests,predictions],axis=1)"
   ]
  },
  {
   "cell_type": "code",
   "execution_count": 22,
   "metadata": {},
   "outputs": [
    {
     "data": {
      "text/html": [
       "<div>\n",
       "<style scoped>\n",
       "    .dataframe tbody tr th:only-of-type {\n",
       "        vertical-align: middle;\n",
       "    }\n",
       "\n",
       "    .dataframe tbody tr th {\n",
       "        vertical-align: top;\n",
       "    }\n",
       "\n",
       "    .dataframe thead th {\n",
       "        text-align: right;\n",
       "    }\n",
       "</style>\n",
       "<table border=\"1\" class=\"dataframe\">\n",
       "  <thead>\n",
       "    <tr style=\"text-align: right;\">\n",
       "      <th></th>\n",
       "      <th>ID</th>\n",
       "      <th>CLASS</th>\n",
       "    </tr>\n",
       "  </thead>\n",
       "  <tbody>\n",
       "    <tr>\n",
       "      <td>0</td>\n",
       "      <td>178</td>\n",
       "      <td>positive</td>\n",
       "    </tr>\n",
       "    <tr>\n",
       "      <td>1</td>\n",
       "      <td>344</td>\n",
       "      <td>negative</td>\n",
       "    </tr>\n",
       "    <tr>\n",
       "      <td>2</td>\n",
       "      <td>2324</td>\n",
       "      <td>negative</td>\n",
       "    </tr>\n",
       "    <tr>\n",
       "      <td>3</td>\n",
       "      <td>3217</td>\n",
       "      <td>positive</td>\n",
       "    </tr>\n",
       "    <tr>\n",
       "      <td>4</td>\n",
       "      <td>3705</td>\n",
       "      <td>positive</td>\n",
       "    </tr>\n",
       "  </tbody>\n",
       "</table>\n",
       "</div>"
      ],
      "text/plain": [
       "     ID     CLASS\n",
       "0   178  positive\n",
       "1   344  negative\n",
       "2  2324  negative\n",
       "3  3217  positive\n",
       "4  3705  positive"
      ]
     },
     "execution_count": 22,
     "metadata": {},
     "output_type": "execute_result"
    }
   ],
   "source": [
    "id_predictions.head()"
   ]
  },
  {
   "cell_type": "code",
   "execution_count": 23,
   "metadata": {},
   "outputs": [],
   "source": [
    "id_predictions.to_csv(\"prediction.csv\",index=False)"
   ]
  },
  {
   "cell_type": "code",
   "execution_count": null,
   "metadata": {},
   "outputs": [],
   "source": []
  }
 ],
 "metadata": {
  "kernelspec": {
   "display_name": "Python 3",
   "language": "python",
   "name": "python3"
  },
  "language_info": {
   "codemirror_mode": {
    "name": "ipython",
    "version": 3
   },
   "file_extension": ".py",
   "mimetype": "text/x-python",
   "name": "python",
   "nbconvert_exporter": "python",
   "pygments_lexer": "ipython3",
   "version": "3.7.4"
  }
 },
 "nbformat": 4,
 "nbformat_minor": 2
}
